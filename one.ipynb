{
 "cells": [
  {
   "cell_type": "code",
   "execution_count": 1,
   "metadata": {},
   "outputs": [],
   "source": [
    "import pandas as pd\n",
    "import requests\n",
    "from bs4 import BeautifulSoup"
   ]
  },
  {
   "cell_type": "markdown",
   "metadata": {},
   "source": [
    "step1"
   ]
  },
  {
   "cell_type": "code",
   "execution_count": 2,
   "metadata": {},
   "outputs": [],
   "source": [
    "#sending a request to web server\n",
    "url = \"https://blog.bankbazaar.com/pakistan-better-than-india-for-doing-business/\"\n",
    "#make a get request\n",
    "  #the html infomation that is 'get' is saved in a variable \n",
    "page = requests.get(url)\n",
    "\n",
    "#display html text(thats what the page var contains)\n",
    "\n",
    "\n",
    "#page.text"
   ]
  },
  {
   "cell_type": "markdown",
   "metadata": {},
   "source": [
    "step2"
   ]
  },
  {
   "cell_type": "code",
   "execution_count": 3,
   "metadata": {},
   "outputs": [],
   "source": [
    "#now to parse this html we use beautifulsoup\n",
    "  \n",
    "soup = BeautifulSoup(page.text, 'html.parser') \n",
    "     "
   ]
  },
  {
   "cell_type": "markdown",
   "metadata": {},
   "source": [
    "step3"
   ]
  },
  {
   "cell_type": "code",
   "execution_count": 4,
   "metadata": {},
   "outputs": [],
   "source": [
    "#reading\n",
    "reviewText = []\n",
    "\n",
    "review_text_element = soup.find_all(class_='entry-content')\n",
    "\n",
    "for item in review_text_element:\n",
    "    reviewText.append(item.text)\n",
    "\n",
    "    \n",
    "#reviewText"
   ]
  },
  {
   "cell_type": "code",
   "execution_count": 5,
   "metadata": {},
   "outputs": [],
   "source": [
    "# read something more stuff \n",
    "something_more = []\n",
    "something_more_list = soup.find_all(class_='clearfix')\n",
    "\n",
    "for item in something_more_list:\n",
    "    something_more.append(item.li)\n",
    "\n",
    "    \n",
    "#something_more"
   ]
  },
  {
   "cell_type": "code",
   "execution_count": 22,
   "metadata": {},
   "outputs": [
    {
     "data": {
      "text/plain": [
       "[\"\\n\\n\\nSearch for:\\n\\n\\n\\nWhat's Hot\\n\\n\\n\\n\\n\\n \\n \\nHome Loan EMI Calculator_Carousel \\n\\n\\n\\n \\n \\nHDFC Bank Personal (1) \\n\\n\\n\\n \\n \\nIndusInd CC carousel \\n\\n\\n\\n \\n \\nTortoise HL \\n\\n\\n\\n \\n \\nPaypal Carousel \\n\\n\\n\\n \\n \\n\\n\\n\\n\\n \\n \\n\\n\\n\\n\\n \\n \\n\\n\\n\\n\\n \\n \\nEMI calculator carousel EMI Calculator \\n\\n\\n\\n \\n \\n\\n\\n\\n\\n\\n\\n\\n\\n\\n\\nThe Best Offers For You! \\n\\nCredit Score\\nHome Loan\\nCar Loan\\nPersonal Loan\\nCredit Card\\nUsed Car Loan\\n\\n\\n\\n \\n\\n\\n\\n  Recent Posts \\n\\nHome Loan EMI Calculator: How It Works\\n\\n\\nPersonal Loan Offers With Zero Processing Fee\\n\\n\\nCIBIL Study Shows Millennials Are Actively Checking Their Credit Scores\\n\\n\\n4 Signs You’re Already A Credit Expert\\n\\n\\nA Step-By-Step Guide To Making Your First P2P Investment\\n\\n\\nHow To Save For Your Short-term Goals\\n\\n\\n4 Ways To End 2019 On A Good Financial Note\\n\\n\\nPopular Posts \\n\\n\\nWhat Is A Cancelled Cheque?\\n\\n\\nStamp Duty And Registration At The Time Of Property Purchase\\n\\n\\n3 International Transaction Charges To Watch Out For\\n\\n\\nWhen A Borrower Fails To Repay The Loan!\\n\\n\\nReversal Of Credit Card Transactions\\n\\n\\nLoan Default Is Not The End!\\n\\n\\n3 Loans That Can Give You Great Tax Benefits\\n\\n\\nHow To Register Banking Complaints Online With RBI’s Banking Ombudsman\\n\\n\\nHow To Save Tax On Long-Term Capital Gains\\n\\n\\nATM Didn’t Dispense Cash? Account Debited? Do This.\\n\\n\\n\\n\\n \\n\\n\\n\\n\\n\\n\\n \"]"
      ]
     },
     "execution_count": 22,
     "metadata": {},
     "output_type": "execute_result"
    }
   ],
   "source": [
    "images = []\n",
    "\n",
    "images_list = soup.find_all(class_='widget-area' )\n",
    "\n",
    "for item in images_list:\n",
    "    images.append(item.text)\n",
    "\n",
    "#images"
   ]
  },
  {
   "cell_type": "code",
   "execution_count": null,
   "metadata": {},
   "outputs": [],
   "source": []
  },
  {
   "cell_type": "code",
   "execution_count": null,
   "metadata": {},
   "outputs": [],
   "source": []
  }
 ],
 "metadata": {
  "kernelspec": {
   "display_name": "Python 3",
   "language": "python",
   "name": "python3"
  },
  "language_info": {
   "codemirror_mode": {
    "name": "ipython",
    "version": 3
   },
   "file_extension": ".py",
   "mimetype": "text/x-python",
   "name": "python",
   "nbconvert_exporter": "python",
   "pygments_lexer": "ipython3",
   "version": "3.7.3"
  }
 },
 "nbformat": 4,
 "nbformat_minor": 2
}
