{
 "cells": [
  {
   "cell_type": "code",
   "execution_count": 1,
   "metadata": {},
   "outputs": [],
   "source": [
    "import pandas as pd\n",
    "import requests\n",
    "from bs4 import BeautifulSoup"
   ]
  },
  {
   "cell_type": "markdown",
   "metadata": {},
   "source": [
    "step1"
   ]
  },
  {
   "cell_type": "code",
   "execution_count": 2,
   "metadata": {},
   "outputs": [],
   "source": [
    "#sending a request to web server\n",
    "url = \"https://blog.bankbazaar.com/pakistan-better-than-india-for-doing-business/\"\n",
    "#make a get request\n",
    "  #the html infomation that is 'get' is saved in a variable \n",
    "page = requests.get(url)\n",
    "\n",
    "#display html text(thats what the page var contains)\n",
    "\n",
    "\n",
    "#page.text"
   ]
  },
  {
   "cell_type": "markdown",
   "metadata": {},
   "source": [
    "step2"
   ]
  },
  {
   "cell_type": "code",
   "execution_count": 3,
   "metadata": {},
   "outputs": [],
   "source": [
    "#now to parse this html we use beautifulsoup\n",
    "  \n",
    "soup = BeautifulSoup(page.text, 'html.parser') \n",
    "     "
   ]
  },
  {
   "cell_type": "markdown",
   "metadata": {},
   "source": [
    "step3"
   ]
  },
  {
   "cell_type": "code",
   "execution_count": 4,
   "metadata": {},
   "outputs": [],
   "source": [
    "#reading\n",
    "reviewText = []\n",
    "\n",
    "review_text_element = soup.find_all(class_='entry-content')\n",
    "\n",
    "for item in review_text_element:\n",
    "    reviewText.append(item.text)\n",
    "\n",
    "    \n",
    "#reviewText"
   ]
  },
  {
   "cell_type": "code",
   "execution_count": 5,
   "metadata": {},
   "outputs": [],
   "source": [
    "# read something more stuff \n",
    "something_more = []\n",
    "something_more_list = soup.find_all(class_='clearfix')\n",
    "\n",
    "for item in something_more_list:\n",
    "    something_more.append(item.li)\n",
    "\n",
    "    \n",
    "#something_more"
   ]
  },
  {
   "cell_type": "code",
   "execution_count": 24,
   "metadata": {},
   "outputs": [
    {
     "data": {
      "text/plain": [
       "['Home Loan EMI Calculator_Carousel']"
      ]
     },
     "execution_count": 24,
     "metadata": {},
     "output_type": "execute_result"
    }
   ],
   "source": [
    "images = []\n",
    "\n",
    "images_list = soup.find_all(class_='widget-area' )\n",
    "\n",
    "for item in images_list:\n",
    "    images.append(item.find('img').get('alt'))\n",
    "\n",
    "images"
   ]
  },
  {
   "cell_type": "code",
   "execution_count": null,
   "metadata": {},
   "outputs": [],
   "source": []
  },
  {
   "cell_type": "code",
   "execution_count": null,
   "metadata": {},
   "outputs": [],
   "source": []
  }
 ],
 "metadata": {
  "kernelspec": {
   "display_name": "Python 3",
   "language": "python",
   "name": "python3"
  },
  "language_info": {
   "codemirror_mode": {
    "name": "ipython",
    "version": 3
   },
   "file_extension": ".py",
   "mimetype": "text/x-python",
   "name": "python",
   "nbconvert_exporter": "python",
   "pygments_lexer": "ipython3",
   "version": "3.7.3"
  }
 },
 "nbformat": 4,
 "nbformat_minor": 2
}
